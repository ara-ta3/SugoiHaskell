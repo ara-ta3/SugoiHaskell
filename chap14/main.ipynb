{
 "cells": [
  {
   "cell_type": "markdown",
   "metadata": {},
   "source": [
    "# 第14章：もうちょっとだけモナド\n",
    "\n",
    "Maybeモナド・リストもなど・IOモナドを今までやってきた  \n",
    "さらにいくつかのモナドがこの章で出てくる  \n",
    "\n",
    "この章で出てくるのはmtlパッケージ  \n",
    "インストールされているかは `ghc-pkg list` とうってmtlとバージョン番号が出るはず  \n",
    "\n",
    "### Writerの話"
   ]
  },
  {
   "cell_type": "code",
   "execution_count": 1,
   "metadata": {
    "collapsed": true
   },
   "outputs": [],
   "source": [
    "isBigGang :: Int -> Bool\n",
    "isBigGang x = x > 9"
   ]
  },
  {
   "cell_type": "code",
   "execution_count": 2,
   "metadata": {
    "collapsed": true
   },
   "outputs": [],
   "source": [
    "isBigGang :: Int -> (Bool, String)\n",
    "isBigGang x = (x > 9, \"Compared gang size to 9.\")"
   ]
  },
  {
   "cell_type": "code",
   "execution_count": 3,
   "metadata": {
    "collapsed": false
   },
   "outputs": [
    {
     "data": {
      "text/plain": [
       "(False,\"Compared gang size to 9.\")"
      ]
     },
     "metadata": {},
     "output_type": "display_data"
    }
   ],
   "source": [
    "isBigGang 3"
   ]
  },
  {
   "cell_type": "markdown",
   "metadata": {},
   "source": [
    "例えば既に文脈がついた値 `(3, \"Smallish gang.\")` をisBigGangに食わせたかったらどうするか  \n",
    "ログのついた値、`(a, String)` 型の値と `a -> (b, String)` 型の関数2つを取り、その値を関数の方に食わせる関数を作る  "
   ]
  },
  {
   "cell_type": "code",
   "execution_count": 4,
   "metadata": {
    "collapsed": true
   },
   "outputs": [],
   "source": [
    "applyLog :: (a, String) -> (a -> (b, String)) -> (b, String)\n",
    "applyLog (x, log) f = let (y, newLog) = f x in (y, log ++ newLog)"
   ]
  },
  {
   "cell_type": "code",
   "execution_count": 6,
   "metadata": {
    "collapsed": false
   },
   "outputs": [
    {
     "data": {
      "text/plain": [
       "(False,\"Smallish gang.Compared gang size to 9.\")"
      ]
     },
     "metadata": {},
     "output_type": "display_data"
    }
   ],
   "source": [
    "(3, \"Smallish gang.\") `applyLog` isBigGang"
   ]
  },
  {
   "cell_type": "code",
   "execution_count": 7,
   "metadata": {
    "collapsed": false
   },
   "outputs": [
    {
     "data": {
      "text/plain": [
       "(5,\"Got outlaw name.applied length\")"
      ]
     },
     "metadata": {},
     "output_type": "display_data"
    }
   ],
   "source": [
    "(\"Tobin\", \"Got outlaw name.\") `applyLog` (\\x -> (length x, \"applied length\"))"
   ]
  },
  {
   "cell_type": "markdown",
   "metadata": {},
   "source": [
    "### モノイドが助けに来たよ\n",
    "\n",
    "Logは別にStringである必要はない  \n"
   ]
  },
  {
   "cell_type": "code",
   "execution_count": 8,
   "metadata": {
    "collapsed": true
   },
   "outputs": [],
   "source": [
    "applyLog :: (Monoid m) => (a, m) -> (a -> (b, m)) -> (b, m)\n",
    "applyLog (x, log) f = let (y, newLog) = f x in (y, log `mappend` newLog)\n"
   ]
  },
  {
   "cell_type": "code",
   "execution_count": 9,
   "metadata": {
    "collapsed": true
   },
   "outputs": [],
   "source": [
    "import Data.Monoid\n",
    "\n",
    "type Food = String\n",
    "type Price = Sum Int\n",
    "\n",
    "addDrink :: Food -> (Food, Price)\n",
    "addDrink \"beans\" = (\"milk\", Sum 25)\n",
    "addDrink \"jerky\" = (\"whiskey\", Sum 99)\n",
    "addDrink _ = (\"beer\", Sum 30)\n"
   ]
  },
  {
   "cell_type": "code",
   "execution_count": 10,
   "metadata": {
    "collapsed": false
   },
   "outputs": [
    {
     "data": {
      "text/plain": [
       "Sum {getSum = 12}"
      ]
     },
     "metadata": {},
     "output_type": "display_data"
    }
   ],
   "source": [
    "Sum 3 `mappend` Sum 9"
   ]
  },
  {
   "cell_type": "code",
   "execution_count": null,
   "metadata": {
    "collapsed": true
   },
   "outputs": [],
   "source": []
  }
 ],
 "metadata": {
  "kernelspec": {
   "display_name": "Haskell",
   "language": "haskell",
   "name": "haskell"
  },
  "language_info": {
   "codemirror_mode": "ihaskell",
   "file_extension": ".hs",
   "name": "haskell",
   "version": "7.10.2"
  }
 },
 "nbformat": 4,
 "nbformat_minor": 0
}
