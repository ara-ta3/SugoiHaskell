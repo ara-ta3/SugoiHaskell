{
 "cells": [
  {
   "cell_type": "markdown",
   "metadata": {},
   "source": [
    "# 第14章：もうちょっとだけモナド\n",
    "\n",
    "Maybeモナド・リストもなど・IOモナドを今までやってきた  \n",
    "さらにいくつかのモナドがこの章で出てくる  \n",
    "\n",
    "この章で出てくるのはmtlパッケージ  \n",
    "インストールされているかは `ghc-pkg list` とうってmtlとバージョンばんご"
   ]
  }
 ],
 "metadata": {
  "kernelspec": {
   "display_name": "Haskell",
   "language": "haskell",
   "name": "haskell"
  },
  "language_info": {
   "codemirror_mode": "ihaskell",
   "file_extension": ".hs",
   "name": "haskell",
   "version": "7.10.2"
  }
 },
 "nbformat": 4,
 "nbformat_minor": 0
}
