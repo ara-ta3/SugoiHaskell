{
 "cells": [
  {
   "cell_type": "markdown",
   "metadata": {},
   "source": [
    "# 第15章 Zipper\n",
    "\n",
    "> Zipperはデータ構造の要素の更新を簡単にし、データ構造をたどるという走査を効率的にしてくれる"
   ]
  },
  {
   "cell_type": "code",
   "execution_count": 2,
   "metadata": {
    "collapsed": true
   },
   "outputs": [],
   "source": [
    "data Tree a = Empty | Node a (Tree a) (Tree a) deriving (Show)\n",
    "\n",
    "freeTree :: Tree Char\n",
    "freeTree =\n",
    "    Node 'P'\n",
    "        (Node 'O'\n",
    "            (Node 'L'\n",
    "                (Node 'N' Empty Empty)\n",
    "                (Node 'T' Empty Empty)\n",
    "            )\n",
    "            (Node 'Y'\n",
    "                (Node 'S' Empty Empty)\n",
    "                (Node 'A' Empty Empty)\n",
    "            )\n",
    "        )\n",
    "        (Node 'L'\n",
    "            (Node 'W'\n",
    "                (Node 'C' Empty Empty)\n",
    "                (Node 'R' Empty Empty)\n",
    "            )\n",
    "            (Node 'A'\n",
    "                (Node 'A' Empty Empty)\n",
    "                (Node 'C' Empty Empty)\n",
    "            )\n",
    "        )\n"
   ]
  },
  {
   "cell_type": "code",
   "execution_count": 5,
   "metadata": {
    "collapsed": false
   },
   "outputs": [],
   "source": [
    "changeToP :: Tree Char -> Tree Char\n",
    "changeToP (Node x l (Node y (Node _ m n) r)) = Node x l (Node y (Node 'P' m n) r)"
   ]
  },
  {
   "cell_type": "code",
   "execution_count": 6,
   "metadata": {
    "collapsed": false
   },
   "outputs": [
    {
     "data": {
      "text/plain": [
       "Node 'P' (Node 'O' (Node 'L' (Node 'N' Empty Empty) (Node 'T' Empty Empty)) (Node 'Y' (Node 'S' Empty Empty) (Node 'A' Empty Empty))) (Node 'L' (Node 'P' (Node 'C' Empty Empty) (Node 'R' Empty Empty)) (Node 'A' (Node 'A' Empty Empty) (Node 'C' Empty Empty)))"
      ]
     },
     "metadata": {},
     "output_type": "display_data"
    }
   ],
   "source": [
    "changeToP freeTree"
   ]
  },
  {
   "cell_type": "code",
   "execution_count": 8,
   "metadata": {
    "collapsed": false
   },
   "outputs": [],
   "source": [
    "data Crumb a = LeftCrumb a (Tree a) | RightCrumb a (Tree a) deriving (Show)\n",
    "type Breadcrumbs a =[Crumb a]\n",
    "type Zipper a = (Tree a, Breadcrumbs a)"
   ]
  },
  {
   "cell_type": "markdown",
   "metadata": {},
   "source": [
    "あるデータ構造の注目点、および周辺の情報を含んでいるデータ構造をZipperと呼ぶ  \n",
    "ファイルシステムの例が続く  "
   ]
  },
  {
   "cell_type": "code",
   "execution_count": null,
   "metadata": {
    "collapsed": true
   },
   "outputs": [],
   "source": []
  }
 ],
 "metadata": {
  "kernelspec": {
   "display_name": "Haskell",
   "language": "haskell",
   "name": "haskell"
  },
  "language_info": {
   "codemirror_mode": "ihaskell",
   "file_extension": ".hs",
   "name": "haskell",
   "version": "7.10.2"
  }
 },
 "nbformat": 4,
 "nbformat_minor": 0
}
