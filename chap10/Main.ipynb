{
 "cells": [
  {
   "cell_type": "markdown",
   "metadata": {},
   "source": [
    "# 第10章 関数型問題解決法"
   ]
  },
  {
   "cell_type": "code",
   "execution_count": 4,
   "metadata": {
    "collapsed": false
   },
   "outputs": [],
   "source": [
    "solveRPN :: String -> Double\n",
    "solveRPN = head . foldl foldingFunction [] . words\n",
    "    where foldingFunction (x:y:ys) \"*\" = (y * x) : ys;\n",
    "                foldingFunction (x:y:ys) \"+\" = (y + x) : ys;\n",
    "                foldingFunction (x:y:ys) \"-\" = (y - x) : ys;\n",
    "                foldingFunction xs numberString = read numberString: xs;\n"
   ]
  },
  {
   "cell_type": "code",
   "execution_count": 5,
   "metadata": {
    "collapsed": false
   },
   "outputs": [
    {
     "data": {
      "text/plain": [
       "-4.0"
      ]
     },
     "metadata": {},
     "output_type": "display_data"
    }
   ],
   "source": [
    "solveRPN \"10 4 3 + 2 * -\""
   ]
  },
  {
   "cell_type": "code",
   "execution_count": 7,
   "metadata": {
    "collapsed": false
   },
   "outputs": [
    {
     "data": {
      "text/plain": [
       "5.5"
      ]
     },
     "metadata": {},
     "output_type": "display_data"
    }
   ],
   "source": [
    "solveRPN \"2 3.5 +\""
   ]
  },
  {
   "cell_type": "code",
   "execution_count": 9,
   "metadata": {
    "collapsed": false
   },
   "outputs": [],
   "source": [
    "solveRPN :: String -> Double\n",
    "solveRPN = head . foldl foldingFunction [] . words\n",
    "    where foldingFunction (x:y:ys) \"*\" = (y * x) : ys;\n",
    "                foldingFunction (x:y:ys) \"+\" = (y + x) : ys;\n",
    "                foldingFunction (x:y:ys) \"-\" = (y - x) : ys;\n",
    "                foldingFunction (x:y:ys) \"/\" = (y / x):ys;\n",
    "                foldingFunction (x:y:ys) \"^\" = (y ** x) : ys;\n",
    "                foldingFunction (x:xs) \"ln\" = log x: xs;\n",
    "                foldingFunction xs \"sum\" = [sum xs];\n",
    "                foldingFunction xs numberString = read numberString: xs;\n"
   ]
  },
  {
   "cell_type": "code",
   "execution_count": 3,
   "metadata": {
    "collapsed": false
   },
   "outputs": [],
   "source": [
    "data Section = Section {getA::Int, getB :: Int, getC :: Int} deriving (Show)\n",
    "\n",
    "type RoadSystem = [Section]\n",
    "\n",
    "heathrowToLondon :: RoadSystem\n",
    "heathrowToLondon = [Section 50 10 30, Section 5 90 20, Section 40 2 25, Section 10 8 0]"
   ]
  },
  {
   "cell_type": "code",
   "execution_count": 4,
   "metadata": {
    "collapsed": true
   },
   "outputs": [],
   "source": [
    "data Lavel = A | B | C deriving (Show)\n",
    "type Path = [(Lavel, Int)]\n",
    "\n",
    "-- optimalPath :: RoadSystem -> Path\n",
    "\n",
    "roadStep :: (Path, Path) -> Section -> (Path, Path)\n",
    "roadStep (pathA, pathB) (Section a b c) = \n",
    "    let timeA = sum (map snd pathA)\n",
    "        timeB = sum (map snd pathB)\n",
    "        forwardTimeToA = timeA + a\n",
    "        crossTimeToA = timeB + b + c\n",
    "        forwardTimeToB = timeB + b\n",
    "        crossTimeToB = timeA + a + c\n",
    "        newPathToA = if forwardTimeToA <= crossTimeToA then (A, a) : pathA else (C, c) : (B, b): pathB\n",
    "        newPathToB = if forwardTimeToB <= crossTimeToB then (B, b) : pathB else (C, c) : (A, a) : pathA\n",
    "        in (newPathToA, newPathToB)"
   ]
  },
  {
   "cell_type": "code",
   "execution_count": 5,
   "metadata": {
    "collapsed": false
   },
   "outputs": [
    {
     "data": {
      "text/plain": [
       "([(C,30),(B,10)],[(B,10)])"
      ]
     },
     "metadata": {},
     "output_type": "display_data"
    }
   ],
   "source": [
    "roadStep ([], []) (head heathrowToLondon)"
   ]
  },
  {
   "cell_type": "code",
   "execution_count": 6,
   "metadata": {
    "collapsed": true
   },
   "outputs": [],
   "source": [
    "optimalPath :: RoadSystem -> Path\n",
    "optimalPath roadSystem = \n",
    "    let (bestAPath, bestBPath) = foldl roadStep ([], []) roadSystem\n",
    "    in if sum (map snd bestAPath) <= sum (map snd bestBPath)\n",
    "        then reverse bestAPath\n",
    "        else reverse bestBPath\n",
    "        "
   ]
  },
  {
   "cell_type": "code",
   "execution_count": 7,
   "metadata": {
    "collapsed": false
   },
   "outputs": [
    {
     "data": {
      "text/plain": [
       "[(B,10),(C,30),(A,5),(C,20),(B,2),(B,8),(C,0)]"
      ]
     },
     "metadata": {},
     "output_type": "display_data"
    }
   ],
   "source": [
    "optimalPath heathrowToLondon"
   ]
  },
  {
   "cell_type": "code",
   "execution_count": 8,
   "metadata": {
    "collapsed": true
   },
   "outputs": [],
   "source": [
    "groupsOf :: Int -> [a] -> [[a]]\n",
    "groupsOf 0 _ = undefined\n",
    "groupsOf _ [] = []\n",
    "groupsOf n xs = take n xs : groupsOf n (drop n xs)"
   ]
  },
  {
   "cell_type": "code",
   "execution_count": 10,
   "metadata": {
    "collapsed": false
   },
   "outputs": [
    {
     "data": {
      "text/plain": [
       "[[1,2,3],[4,5,6],[7,8,9],[10]]"
      ]
     },
     "metadata": {},
     "output_type": "display_data"
    }
   ],
   "source": [
    "groupsOf 3 [1..10]"
   ]
  },
  {
   "cell_type": "code",
   "execution_count": 11,
   "metadata": {
    "collapsed": false
   },
   "outputs": [
    {
     "data": {
      "text/html": [
       "<style>/* Styles used for the Hoogle display in the pager */\n",
       ".hoogle-doc {\n",
       "display: block;\n",
       "padding-bottom: 1.3em;\n",
       "padding-left: 0.4em;\n",
       "}\n",
       ".hoogle-code {\n",
       "display: block;\n",
       "font-family: monospace;\n",
       "white-space: pre;\n",
       "}\n",
       ".hoogle-text {\n",
       "display: block;\n",
       "}\n",
       ".hoogle-name {\n",
       "color: green;\n",
       "font-weight: bold;\n",
       "}\n",
       ".hoogle-head {\n",
       "font-weight: bold;\n",
       "}\n",
       ".hoogle-sub {\n",
       "display: block;\n",
       "margin-left: 0.4em;\n",
       "}\n",
       ".hoogle-package {\n",
       "font-weight: bold;\n",
       "font-style: italic;\n",
       "}\n",
       ".hoogle-module {\n",
       "font-weight: bold;\n",
       "}\n",
       ".hoogle-class {\n",
       "font-weight: bold;\n",
       "}\n",
       ".get-type {\n",
       "color: green;\n",
       "font-weight: bold;\n",
       "font-family: monospace;\n",
       "display: block;\n",
       "white-space: pre-wrap;\n",
       "}\n",
       ".show-type {\n",
       "color: green;\n",
       "font-weight: bold;\n",
       "font-family: monospace;\n",
       "margin-left: 1em;\n",
       "}\n",
       ".mono {\n",
       "font-family: monospace;\n",
       "display: block;\n",
       "}\n",
       ".err-msg {\n",
       "color: red;\n",
       "font-style: italic;\n",
       "font-family: monospace;\n",
       "white-space: pre;\n",
       "display: block;\n",
       "}\n",
       "#unshowable {\n",
       "color: red;\n",
       "font-weight: bold;\n",
       "}\n",
       ".err-msg.in.collapse {\n",
       "padding-top: 0.7em;\n",
       "}\n",
       ".highlight-code {\n",
       "white-space: pre;\n",
       "font-family: monospace;\n",
       "}\n",
       ".suggestion-warning { \n",
       "font-weight: bold;\n",
       "color: rgb(200, 130, 0);\n",
       "}\n",
       ".suggestion-error { \n",
       "font-weight: bold;\n",
       "color: red;\n",
       "}\n",
       ".suggestion-name {\n",
       "font-weight: bold;\n",
       "}\n",
       "</style><div class=\"suggestion-name\" style=\"clear:both;\">Use concatMap</div><div class=\"suggestion-row\" style=\"float: left;\"><div class=\"suggestion-error\">Found:</div><div class=\"highlight-code\" id=\"haskell\">concat $ map (show . fst) path</div></div><div class=\"suggestion-row\" style=\"float: left;\"><div class=\"suggestion-error\">Why Not:</div><div class=\"highlight-code\" id=\"haskell\">concatMap (show . fst) path</div></div>"
      ],
      "text/plain": [
       "Line 6: Use concatMap\n",
       "Found:\n",
       "concat $ map (show . fst) path\n",
       "Why not:\n",
       "concatMap (show . fst) path"
      ]
     },
     "metadata": {},
     "output_type": "display_data"
    }
   ],
   "source": [
    "import Data.List\n",
    "\n",
    "main = do\n",
    "    contents <- getContents\n",
    "    let threes = groupsOf 3 (map read $ lines contents)\n",
    "        roadSystem = map (\\[a, b, c] -> Section a b c) threes\n",
    "        path = optimalPath roadSystem\n",
    "        pathString = concat $ map (show . fst) path\n",
    "        pathTime = sum $ map snd path\n",
    "    putStrLn $ \"The best path to take is: \" ++ pathString\n",
    "    putStrLn $ \"Time taken: \" ++ show pathTime"
   ]
  },
  {
   "cell_type": "code",
   "execution_count": null,
   "metadata": {
    "collapsed": false
   },
   "outputs": [
    {
     "name": "stdout",
     "output_type": "stream",
     "text": [
      "50\n",
      "10\n",
      "30\n",
      "\n",
      "\n"
     ]
    }
   ],
   "source": [
    "main"
   ]
  },
  {
   "cell_type": "code",
   "execution_count": null,
   "metadata": {
    "collapsed": true
   },
   "outputs": [],
   "source": []
  }
 ],
 "metadata": {
  "kernelspec": {
   "display_name": "Haskell",
   "language": "haskell",
   "name": "haskell"
  },
  "language_info": {
   "codemirror_mode": "ihaskell",
   "file_extension": ".hs",
   "name": "haskell",
   "version": "7.10.2"
  }
 },
 "nbformat": 4,
 "nbformat_minor": 0
}
