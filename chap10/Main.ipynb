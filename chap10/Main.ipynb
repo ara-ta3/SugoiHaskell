{
 "cells": [
  {
   "cell_type": "markdown",
   "metadata": {},
   "source": [
    "# 第10章 関数型問題解決法"
   ]
  },
  {
   "cell_type": "code",
   "execution_count": 4,
   "metadata": {
    "collapsed": false
   },
   "outputs": [],
   "source": [
    "solveRPN :: String -> Double\n",
    "solveRPN = head . foldl foldingFunction [] . words\n",
    "    where foldingFunction (x:y:ys) \"*\" = (y * x) : ys;\n",
    "                foldingFunction (x:y:ys) \"+\" = (y + x) : ys;\n",
    "                foldingFunction (x:y:ys) \"-\" = (y - x) : ys;\n",
    "                foldingFunction xs numberString = read numberString: xs;\n"
   ]
  },
  {
   "cell_type": "code",
   "execution_count": 5,
   "metadata": {
    "collapsed": false
   },
   "outputs": [
    {
     "data": {
      "text/plain": [
       "-4.0"
      ]
     },
     "metadata": {},
     "output_type": "display_data"
    }
   ],
   "source": [
    "solveRPN \"10 4 3 + 2 * -\""
   ]
  },
  {
   "cell_type": "code",
   "execution_count": 7,
   "metadata": {
    "collapsed": false
   },
   "outputs": [
    {
     "data": {
      "text/plain": [
       "5.5"
      ]
     },
     "metadata": {},
     "output_type": "display_data"
    }
   ],
   "source": [
    "solveRPN \"2 3.5 +\""
   ]
  },
  {
   "cell_type": "code",
   "execution_count": 9,
   "metadata": {
    "collapsed": false
   },
   "outputs": [],
   "source": [
    "solveRPN :: String -> Double\n",
    "solveRPN = head . foldl foldingFunction [] . words\n",
    "    where foldingFunction (x:y:ys) \"*\" = (y * x) : ys;\n",
    "                foldingFunction (x:y:ys) \"+\" = (y + x) : ys;\n",
    "                foldingFunction (x:y:ys) \"-\" = (y - x) : ys;\n",
    "                foldingFunction (x:y:ys) \"/\" = (y / x):ys;\n",
    "                foldingFunction (x:y:ys) \"^\" = (y ** x) : ys;\n",
    "                foldingFunction (x:xs) \"ln\" = log x: xs;\n",
    "                foldingFunction xs \"sum\" = [sum xs];\n",
    "                foldingFunction xs numberString = read numberString: xs;\n"
   ]
  },
  {
   "cell_type": "code",
   "execution_count": null,
   "metadata": {
    "collapsed": true
   },
   "outputs": [],
   "source": []
  }
 ],
 "metadata": {
  "kernelspec": {
   "display_name": "Haskell",
   "language": "haskell",
   "name": "haskell"
  },
  "language_info": {
   "codemirror_mode": "ihaskell",
   "file_extension": ".hs",
   "name": "haskell",
   "version": "7.10.2"
  }
 },
 "nbformat": 4,
 "nbformat_minor": 0
}
